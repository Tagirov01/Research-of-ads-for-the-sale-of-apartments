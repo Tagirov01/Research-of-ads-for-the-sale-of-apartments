{
 "cells": [
  {
   "cell_type": "markdown",
   "metadata": {},
   "source": [
    "### 1. [Знакомство с данными](#paragraph1)\n",
    "\n",
    "### 2. [Предобработка данных](#paragraph2)\n",
    "   1. [Замена пропущенных значений](#subparagraph2.1)\n",
    "   2. [Изменение типа данных](#subparagraph2.2)\n",
    "   \n",
    "\n",
    "### 3. [Добавление новых параметров](#paragraph3)\n",
    "   1. [Цена за квадратный метр](#subparagraph3.1)\n",
    "   2. [День, месяц, год публикации объявления](#subparagraph3.2)\n",
    "   3. [Этаж квартиры](#subparagraph3.3)\n",
    "   4. [Cоотношение жилой и общей площади, а также отношение площади кухни к общей](#subparagraph3.4)\n",
    "   \n",
    "### 4. [Исследовательский анализ](#paragraph4)\n",
    "   1. [Изучение признаков: площадь, цена, число комнат, высота потолков](#subparagraph4.1)\n",
    "   2. [Избавляемся от редких и выбивающихся значений](#subparagraph4.2)\n",
    "   4. [Определение факторов больше всего влияющих на стоимость квартиры](#subparagraph4.3)"
   ]
  },
  {
   "cell_type": "markdown",
   "metadata": {},
   "source": [
    "<a name=\"paragraph1\"></a>\n",
    "### Шаг 1. Откройте файл с данными и изучите общую информацию. "
   ]
  },
  {
   "cell_type": "code",
   "execution_count": 1,
   "metadata": {},
   "outputs": [
    {
     "data": {
      "text/html": [
       "<div>\n",
       "<style scoped>\n",
       "    .dataframe tbody tr th:only-of-type {\n",
       "        vertical-align: middle;\n",
       "    }\n",
       "\n",
       "    .dataframe tbody tr th {\n",
       "        vertical-align: top;\n",
       "    }\n",
       "\n",
       "    .dataframe thead th {\n",
       "        text-align: right;\n",
       "    }\n",
       "</style>\n",
       "<table border=\"1\" class=\"dataframe\">\n",
       "  <thead>\n",
       "    <tr style=\"text-align: right;\">\n",
       "      <th></th>\n",
       "      <th>total_images</th>\n",
       "      <th>last_price</th>\n",
       "      <th>total_area</th>\n",
       "      <th>first_day_exposition</th>\n",
       "      <th>rooms</th>\n",
       "      <th>ceiling_height</th>\n",
       "      <th>floors_total</th>\n",
       "      <th>living_area</th>\n",
       "      <th>floor</th>\n",
       "      <th>is_apartment</th>\n",
       "      <th>...</th>\n",
       "      <th>kitchen_area</th>\n",
       "      <th>balcony</th>\n",
       "      <th>locality_name</th>\n",
       "      <th>airports_nearest</th>\n",
       "      <th>cityCenters_nearest</th>\n",
       "      <th>parks_around3000</th>\n",
       "      <th>parks_nearest</th>\n",
       "      <th>ponds_around3000</th>\n",
       "      <th>ponds_nearest</th>\n",
       "      <th>days_exposition</th>\n",
       "    </tr>\n",
       "  </thead>\n",
       "  <tbody>\n",
       "    <tr>\n",
       "      <th>0</th>\n",
       "      <td>20</td>\n",
       "      <td>13000000.0</td>\n",
       "      <td>108.0</td>\n",
       "      <td>2019-03-07T00:00:00</td>\n",
       "      <td>3</td>\n",
       "      <td>2.70</td>\n",
       "      <td>16.0</td>\n",
       "      <td>51.0</td>\n",
       "      <td>8</td>\n",
       "      <td>NaN</td>\n",
       "      <td>...</td>\n",
       "      <td>25.0</td>\n",
       "      <td>NaN</td>\n",
       "      <td>Санкт-Петербург</td>\n",
       "      <td>18863.0</td>\n",
       "      <td>16028.0</td>\n",
       "      <td>1.0</td>\n",
       "      <td>482.0</td>\n",
       "      <td>2.0</td>\n",
       "      <td>755.0</td>\n",
       "      <td>NaN</td>\n",
       "    </tr>\n",
       "    <tr>\n",
       "      <th>1</th>\n",
       "      <td>7</td>\n",
       "      <td>3350000.0</td>\n",
       "      <td>40.4</td>\n",
       "      <td>2018-12-04T00:00:00</td>\n",
       "      <td>1</td>\n",
       "      <td>NaN</td>\n",
       "      <td>11.0</td>\n",
       "      <td>18.6</td>\n",
       "      <td>1</td>\n",
       "      <td>NaN</td>\n",
       "      <td>...</td>\n",
       "      <td>11.0</td>\n",
       "      <td>2.0</td>\n",
       "      <td>посёлок Шушары</td>\n",
       "      <td>12817.0</td>\n",
       "      <td>18603.0</td>\n",
       "      <td>0.0</td>\n",
       "      <td>NaN</td>\n",
       "      <td>0.0</td>\n",
       "      <td>NaN</td>\n",
       "      <td>81.0</td>\n",
       "    </tr>\n",
       "    <tr>\n",
       "      <th>2</th>\n",
       "      <td>10</td>\n",
       "      <td>5196000.0</td>\n",
       "      <td>56.0</td>\n",
       "      <td>2015-08-20T00:00:00</td>\n",
       "      <td>2</td>\n",
       "      <td>NaN</td>\n",
       "      <td>5.0</td>\n",
       "      <td>34.3</td>\n",
       "      <td>4</td>\n",
       "      <td>NaN</td>\n",
       "      <td>...</td>\n",
       "      <td>8.3</td>\n",
       "      <td>0.0</td>\n",
       "      <td>Санкт-Петербург</td>\n",
       "      <td>21741.0</td>\n",
       "      <td>13933.0</td>\n",
       "      <td>1.0</td>\n",
       "      <td>90.0</td>\n",
       "      <td>2.0</td>\n",
       "      <td>574.0</td>\n",
       "      <td>558.0</td>\n",
       "    </tr>\n",
       "    <tr>\n",
       "      <th>3</th>\n",
       "      <td>0</td>\n",
       "      <td>64900000.0</td>\n",
       "      <td>159.0</td>\n",
       "      <td>2015-07-24T00:00:00</td>\n",
       "      <td>3</td>\n",
       "      <td>NaN</td>\n",
       "      <td>14.0</td>\n",
       "      <td>NaN</td>\n",
       "      <td>9</td>\n",
       "      <td>NaN</td>\n",
       "      <td>...</td>\n",
       "      <td>NaN</td>\n",
       "      <td>0.0</td>\n",
       "      <td>Санкт-Петербург</td>\n",
       "      <td>28098.0</td>\n",
       "      <td>6800.0</td>\n",
       "      <td>2.0</td>\n",
       "      <td>84.0</td>\n",
       "      <td>3.0</td>\n",
       "      <td>234.0</td>\n",
       "      <td>424.0</td>\n",
       "    </tr>\n",
       "    <tr>\n",
       "      <th>4</th>\n",
       "      <td>2</td>\n",
       "      <td>10000000.0</td>\n",
       "      <td>100.0</td>\n",
       "      <td>2018-06-19T00:00:00</td>\n",
       "      <td>2</td>\n",
       "      <td>3.03</td>\n",
       "      <td>14.0</td>\n",
       "      <td>32.0</td>\n",
       "      <td>13</td>\n",
       "      <td>NaN</td>\n",
       "      <td>...</td>\n",
       "      <td>41.0</td>\n",
       "      <td>NaN</td>\n",
       "      <td>Санкт-Петербург</td>\n",
       "      <td>31856.0</td>\n",
       "      <td>8098.0</td>\n",
       "      <td>2.0</td>\n",
       "      <td>112.0</td>\n",
       "      <td>1.0</td>\n",
       "      <td>48.0</td>\n",
       "      <td>121.0</td>\n",
       "    </tr>\n",
       "  </tbody>\n",
       "</table>\n",
       "<p>5 rows × 22 columns</p>\n",
       "</div>"
      ],
      "text/plain": [
       "   total_images  last_price  total_area first_day_exposition  rooms  \\\n",
       "0            20  13000000.0       108.0  2019-03-07T00:00:00      3   \n",
       "1             7   3350000.0        40.4  2018-12-04T00:00:00      1   \n",
       "2            10   5196000.0        56.0  2015-08-20T00:00:00      2   \n",
       "3             0  64900000.0       159.0  2015-07-24T00:00:00      3   \n",
       "4             2  10000000.0       100.0  2018-06-19T00:00:00      2   \n",
       "\n",
       "   ceiling_height  floors_total  living_area  floor is_apartment  ...  \\\n",
       "0            2.70          16.0         51.0      8          NaN  ...   \n",
       "1             NaN          11.0         18.6      1          NaN  ...   \n",
       "2             NaN           5.0         34.3      4          NaN  ...   \n",
       "3             NaN          14.0          NaN      9          NaN  ...   \n",
       "4            3.03          14.0         32.0     13          NaN  ...   \n",
       "\n",
       "   kitchen_area  balcony    locality_name  airports_nearest  \\\n",
       "0          25.0      NaN  Санкт-Петербург           18863.0   \n",
       "1          11.0      2.0   посёлок Шушары           12817.0   \n",
       "2           8.3      0.0  Санкт-Петербург           21741.0   \n",
       "3           NaN      0.0  Санкт-Петербург           28098.0   \n",
       "4          41.0      NaN  Санкт-Петербург           31856.0   \n",
       "\n",
       "  cityCenters_nearest  parks_around3000  parks_nearest  ponds_around3000  \\\n",
       "0             16028.0               1.0          482.0               2.0   \n",
       "1             18603.0               0.0            NaN               0.0   \n",
       "2             13933.0               1.0           90.0               2.0   \n",
       "3              6800.0               2.0           84.0               3.0   \n",
       "4              8098.0               2.0          112.0               1.0   \n",
       "\n",
       "   ponds_nearest  days_exposition  \n",
       "0          755.0              NaN  \n",
       "1            NaN             81.0  \n",
       "2          574.0            558.0  \n",
       "3          234.0            424.0  \n",
       "4           48.0            121.0  \n",
       "\n",
       "[5 rows x 22 columns]"
      ]
     },
     "execution_count": 1,
     "metadata": {},
     "output_type": "execute_result"
    }
   ],
   "source": [
    "import pandas as pd\n",
    "import seaborn as sns\n",
    "import matplotlib.pyplot as plt  \n",
    "data = pd.read_csv('D:/Education/ЯП/Курсы/2/Project/real_estate_data.csv', sep='\\t')\n",
    "data.head()"
   ]
  },
  {
   "cell_type": "code",
   "execution_count": 2,
   "metadata": {},
   "outputs": [
    {
     "name": "stdout",
     "output_type": "stream",
     "text": [
      "<class 'pandas.core.frame.DataFrame'>\n",
      "RangeIndex: 23699 entries, 0 to 23698\n",
      "Data columns (total 22 columns):\n",
      " #   Column                Non-Null Count  Dtype  \n",
      "---  ------                --------------  -----  \n",
      " 0   total_images          23699 non-null  int64  \n",
      " 1   last_price            23699 non-null  float64\n",
      " 2   total_area            23699 non-null  float64\n",
      " 3   first_day_exposition  23699 non-null  object \n",
      " 4   rooms                 23699 non-null  int64  \n",
      " 5   ceiling_height        14504 non-null  float64\n",
      " 6   floors_total          23613 non-null  float64\n",
      " 7   living_area           21796 non-null  float64\n",
      " 8   floor                 23699 non-null  int64  \n",
      " 9   is_apartment          2775 non-null   object \n",
      " 10  studio                23699 non-null  bool   \n",
      " 11  open_plan             23699 non-null  bool   \n",
      " 12  kitchen_area          21421 non-null  float64\n",
      " 13  balcony               12180 non-null  float64\n",
      " 14  locality_name         23650 non-null  object \n",
      " 15  airports_nearest      18157 non-null  float64\n",
      " 16  cityCenters_nearest   18180 non-null  float64\n",
      " 17  parks_around3000      18181 non-null  float64\n",
      " 18  parks_nearest         8079 non-null   float64\n",
      " 19  ponds_around3000      18181 non-null  float64\n",
      " 20  ponds_nearest         9110 non-null   float64\n",
      " 21  days_exposition       20518 non-null  float64\n",
      "dtypes: bool(2), float64(14), int64(3), object(3)\n",
      "memory usage: 3.7+ MB\n"
     ]
    }
   ],
   "source": [
    "data.isna().sum()\n",
    "data.info()"
   ]
  },
  {
   "cell_type": "markdown",
   "metadata": {},
   "source": [
    "Большинство значений параметров имеют тип float. Таким параметрам, как: `last_price`, `balcony`, `days_exposition`, `floors_total`, `parks_around3000`, `ponds_around3000` тип присвоен не верно. Например, количество балконов не может быть числом с плавающей точкой. Поэтому все перечисленные параметры должны быть целочисленными. Значения параметра `is_apartment` должны быть типа bool. А `first_day_exposition` нужно привести к типу datetime. Далее используя метод describe проведем первичное знакомство с параметрами таблицы.\n"
   ]
  },
  {
   "cell_type": "markdown",
   "metadata": {},
   "source": [
    "1. `ceiling_height`. В основном высота потолков равна 2.6 метрам. Средняя высота превышает медианную из-за наличия выбросов, а именно имеется 1 значение с высотой 100 метров и 22 значения с высотой более 20 метров. Заменить пропуски и выбросы можно будет медианным значением, потому что оно более точно отражает ситуацию на рынке.\n",
    "2. `floors_total`. Параметр имеет хорошие значения, в среднем квартиры продаются в девятиэтажных домах. Значение `floors_total` должны быть целочисленными, позже мы это исправим.\n",
    "3. `living_area`. Имеются выбросы, которые можно будет заменить. Пропущенные значения составляют 8% от всех данных, что говорит о необходимости заменить их медианными.\n",
    "4. `is_apartment`. Больше всего пропусков в параметре `is_apartment`, это логично, т.к в большей части объявлений продаются именно квартиры, поэтому пропуски можно заменить на False. После такой замены в этом столбце останется 50 значений равных True, а это всего лишь 0.21% от всех значений, что говорит о том, что мы можем избавиться от этого столбца.\n",
    "5. `kitchen_area`. В среднем кухни в нашей выборке имеют площадь равную 9 квадратных метров, эти значения хорошо коррелируют со значениями параметра `total_area`. Также имеются выбросы и пропуски.\n",
    "6. `balcony`. В датасете имеется большое количество пропусков. Пропуски в столбце `balcony` можно заменить на 0, что будет говорить о том, что человек не указал их, потому что их скорее всего нет.\n",
    "7. `locality_name`. Данный параметр имеет, всего лишь, 49 пропусков, от которых можно избавиться.\n",
    "8. `airports_nearest`. Пропуски и выбросы будет логичнее заменить на медианные значения в зависимости от населенного пункта (locality_name).\n",
    "9. `cityCenters_nearest`. Таже ситуация, что и с `airports_nearest`.\n",
    "10. `parks_around3000` и `ponds_around3000`. Имеют одинаковое число пропусков. Логичнее будет их заменить на 0, потому что скорее всего парки и водоемы в этом радиусе отсутствуют.\n",
    "11. `parks_nearest`. Парки в основном находятся в 500 метрах от квартир.\n",
    "12. `ponds_nearest`. Водоемы в основном находятся в 500 метрах от квартир. Удивительно, что максимальное расстояние от квартиры до водоема всего лишь 1344 метра.\n",
    "13. `days_exposition`. Пропусков около 10%. Скорее всего, среди пропусков имеется часть активных объявлений. "
   ]
  },
  {
   "cell_type": "markdown",
   "metadata": {},
   "source": [
    "### Вывод"
   ]
  },
  {
   "cell_type": "markdown",
   "metadata": {},
   "source": [
    "8 параметрам присвоен неподходящий тип. 14 столбцов имеют пропуски, большинство из которых заменим медианой, так как почти каждый параметр имеет выбросы, медиана их сгладит. От выбросов мы избавимся в следующих пунктах."
   ]
  },
  {
   "cell_type": "markdown",
   "metadata": {},
   "source": [
    "<a name=\"paragraph2\"></a>\n",
    "## 2 Предобработка данных"
   ]
  },
  {
   "cell_type": "markdown",
   "metadata": {},
   "source": [
    "<a name=\"subparagraph2.1\"></a>\n",
    "### 2.1 Замена пропущенных значений"
   ]
  },
  {
   "cell_type": "code",
   "execution_count": 104,
   "metadata": {},
   "outputs": [
    {
     "data": {
      "text/plain": [
       "0"
      ]
     },
     "execution_count": 104,
     "metadata": {},
     "output_type": "execute_result"
    }
   ],
   "source": [
    "#Прежде всего проверим датасет на наличие дубликатов\n",
    "data.duplicated().sum()"
   ]
  },
  {
   "cell_type": "code",
   "execution_count": 4,
   "metadata": {},
   "outputs": [],
   "source": [
    "parameters_filled_with_median = ['airports_nearest', 'cityCenters_nearest', 'parks_nearest', 'ponds_nearest', 'floors_total']\n",
    "for parameter in parameters_filled_with_median:\n",
    "    data[parameter] = data[parameter].fillna(data[parameter].median())\n",
    "\n",
    "parameters_filled_with_zero = ['balcony', 'parks_around3000', 'ponds_around3000']\n",
    "for parameter in parameters_filled_with_zero:\n",
    "    data[parameter] = data[parameter].fillna(data[parameter].median())\n",
    "\n",
    "# Пропуски в is_apartment заменим на False\n",
    "data['is_apartment'] = data['is_apartment'].fillna(False)"
   ]
  },
  {
   "cell_type": "markdown",
   "metadata": {},
   "source": [
    "- В первую очередь нужно заполнить пропуски в `floors_total`. Для этого создадим столбец, в котором значения столбца `floor` разделим на 3 группы, до 9 этажей, от 10 до 20 этажей, и от 20 и выше. Пропуски заполним средним по каждой группе. \n",
    "- Параметры `living_area` зависит от количества комнат в квартире (rooms) и от количества этажей в доме (floors_total), поэтому нужно будет заменить пропуски медианными значениями в зависимости от этих параметров. \n",
    "- `kitchen_area` сильно коррелирует со значениями `total_area`, поэтому будет логично заменить пропуска на медианные значения kitchen_area в зависимости от общей площади.\n",
    "- Высота потолков `ceiling_height` обычно зависит от типа дома. Предположительный тип дома мы можем понять по количеству его этажей (floors_total)."
   ]
  },
  {
   "cell_type": "code",
   "execution_count": 26,
   "metadata": {},
   "outputs": [],
   "source": [
    "def floor_by_group(row):\n",
    "    if row.floor <= 9:\n",
    "        return 'До 9 этажей'\n",
    "    elif  9 < row.floor <= 20:\n",
    "        return  '10-20 этажей'\n",
    "    else:\n",
    "        return 'Более 20 этажей'\n",
    "\n",
    "data['floor_by_group'] = data.apply(floor_by_group, axis=1)\n",
    "\n",
    "def total_area_by_group(row):\n",
    "    if row['total_area'] <= 35:\n",
    "        return 'до 35 кв м'\n",
    "    elif row['total_area'] > 35 and row['total_area'] <= 70:\n",
    "        return '35-70 кв м'\n",
    "    else:\n",
    "        return 'больше 70 кв м'\n",
    "    \n",
    "data['total_area_by_group'] = data.apply(total_area_by_group, axis=1)"
   ]
  },
  {
   "cell_type": "code",
   "execution_count": 27,
   "metadata": {},
   "outputs": [
    {
     "name": "stdout",
     "output_type": "stream",
     "text": [
      "<class 'pandas.core.frame.DataFrame'>\n",
      "Int64Index: 23625 entries, 0 to 23698\n",
      "Data columns (total 31 columns):\n",
      " #   Column                  Non-Null Count  Dtype         \n",
      "---  ------                  --------------  -----         \n",
      " 0   total_images            23625 non-null  int64         \n",
      " 1   last_price              23625 non-null  int32         \n",
      " 2   total_area              23625 non-null  float64       \n",
      " 3   first_day_exposition    23625 non-null  datetime64[ns]\n",
      " 4   rooms                   23625 non-null  int64         \n",
      " 5   ceiling_height          23624 non-null  float64       \n",
      " 6   floors_total            23625 non-null  int32         \n",
      " 7   living_area             23625 non-null  float64       \n",
      " 8   floor                   23625 non-null  int64         \n",
      " 9   is_apartment            23625 non-null  bool          \n",
      " 10  studio                  23625 non-null  bool          \n",
      " 11  open_plan               23625 non-null  bool          \n",
      " 12  kitchen_area            23625 non-null  float64       \n",
      " 13  balcony                 23625 non-null  int32         \n",
      " 14  locality_name           23576 non-null  object        \n",
      " 15  airports_nearest        23625 non-null  int32         \n",
      " 16  cityCenters_nearest     23625 non-null  int32         \n",
      " 17  parks_around3000        23625 non-null  int32         \n",
      " 18  parks_nearest           23625 non-null  int32         \n",
      " 19  ponds_around3000        23625 non-null  int32         \n",
      " 20  ponds_nearest           23625 non-null  int32         \n",
      " 21  days_exposition         23625 non-null  float64       \n",
      " 22  floor_by_group          23625 non-null  object        \n",
      " 23  total_area_by_group     23625 non-null  object        \n",
      " 24  price_per_square_meter  23625 non-null  float64       \n",
      " 25  day_of_the_week         23625 non-null  int64         \n",
      " 26  month                   23625 non-null  int64         \n",
      " 27  year                    23625 non-null  int64         \n",
      " 28  living_area_part        23625 non-null  float64       \n",
      " 29  kitchen_area_part       23625 non-null  float64       \n",
      " 30  last_price_in_mln       23625 non-null  float64       \n",
      "dtypes: bool(3), datetime64[ns](1), float64(9), int32(9), int64(6), object(3)\n",
      "memory usage: 5.1+ MB\n"
     ]
    }
   ],
   "source": [
    "# Заменим пропуски на медианные значения\n",
    "data['floors_total'] = data.groupby('floor_by_group')['floors_total'].apply(lambda x: x.fillna(x.mean()))\n",
    "data['living_area'] = data.groupby(['rooms', 'floors_total'])['living_area'].apply(lambda x: x.fillna(x.median()))\n",
    "data['kitchen_area'] = data.groupby('total_area_by_group')['kitchen_area'].apply(lambda x: x.fillna(x.median()))\n",
    "data['ceiling_height'] = data.groupby('floors_total')['ceiling_height'].apply(lambda x: x.fillna(x.median()))\n",
    "\n",
    "data.info()"
   ]
  },
  {
   "cell_type": "markdown",
   "metadata": {},
   "source": [
    "<a name=\"subparagraph2.2\"></a>\n",
    "### 2.2 Изменение типа данных"
   ]
  },
  {
   "cell_type": "markdown",
   "metadata": {},
   "source": [
    "Для таких метрик, как стоимость, количество парков/водоемов/балконов, площадь и расстояние подойдет больше целочисленный тип. Также изменим тип даты публикации (first_day_exposition) на тип для даты и времени *datetime64*."
   ]
  },
  {
   "cell_type": "code",
   "execution_count": 7,
   "metadata": {},
   "outputs": [],
   "source": [
    "parameters_to_int = ['last_price', 'floors_total', 'balcony', 'airports_nearest', 'cityCenters_nearest',\n",
    "                  'parks_around3000', 'parks_nearest', 'ponds_around3000', 'ponds_nearest']\n",
    "for parameter in parameters_to_int:\n",
    "    data[parameter] = data[parameter].astype(int)\n",
    "\n",
    "# Изменеие типа для даты публикации\n",
    "data['first_day_exposition'] = pd.to_datetime(data['first_day_exposition'], format='%Y-%m-%dT%H:%M:%S')"
   ]
  },
  {
   "cell_type": "markdown",
   "metadata": {},
   "source": [
    "### Вывод\n",
    "Пропуски почти во всех параметрах были заменены медианой. В `balcony`, `ponds_around3000` и `parks_around3000` пропуски были замены нулем. Пропуски в столбце `is_apartment` были заменены на False. Тип большнства параметров изменил на целочисленный, а также привел `first_day_exposition` к типу datetime."
   ]
  },
  {
   "cell_type": "markdown",
   "metadata": {},
   "source": [
    "<a name=\"paragraph3\"></a>\n",
    "## 3 Добавление новых параметров в таблицу"
   ]
  },
  {
   "cell_type": "markdown",
   "metadata": {},
   "source": [
    "Добавим в нашу таблицу следующие параметры: \n",
    "- цена квадратного метра;\n",
    "- день недели, месяц и год публикации объявления;\n",
    "- этаж квартиры; варианты — первый, последний, другой;\n",
    "- соотношение жилой и общей площади, а также отношение площади кухни к общей."
   ]
  },
  {
   "cell_type": "markdown",
   "metadata": {},
   "source": [
    "<a name=\"subparagraph3.1\"></a>\n",
    "### 3.1 Цена квадратного метра"
   ]
  },
  {
   "cell_type": "code",
   "execution_count": 8,
   "metadata": {},
   "outputs": [],
   "source": [
    "data['price_per_square_meter'] = data['last_price'] / data['total_area']"
   ]
  },
  {
   "cell_type": "markdown",
   "metadata": {},
   "source": [
    "<a name=\"subparagraph3.2\"></a>\n",
    "### 3.2 День недели, месяц и год публикации объявления"
   ]
  },
  {
   "cell_type": "code",
   "execution_count": 9,
   "metadata": {},
   "outputs": [],
   "source": [
    "data['day_of_the_week'] = data['first_day_exposition'].dt.weekday\n",
    "data['month'] = data['first_day_exposition'].dt.month\n",
    "data['year'] = data['first_day_exposition'].dt.year"
   ]
  },
  {
   "cell_type": "markdown",
   "metadata": {},
   "source": [
    "<a name=\"subparagraph3.3\"></a>\n",
    "### 3.3 Этаж квартиры"
   ]
  },
  {
   "cell_type": "code",
   "execution_count": 10,
   "metadata": {},
   "outputs": [],
   "source": [
    "def floor_by_group(row):\n",
    "    if row.floor == 1:\n",
    "        return 'Первый'\n",
    "    elif row.floor == row.floors_total:\n",
    "        return  'Последний'\n",
    "    else:\n",
    "        return 'Другой'\n",
    "data['floor_by_group'] = data.apply(floor_by_group, axis=1)"
   ]
  },
  {
   "cell_type": "markdown",
   "metadata": {},
   "source": [
    "<a name=\"subparagraph3.4\"></a>\n",
    "### 3.4 Cоотношение жилой и общей площади, а также отношение площади кухни к общей"
   ]
  },
  {
   "cell_type": "code",
   "execution_count": 11,
   "metadata": {},
   "outputs": [
    {
     "data": {
      "text/plain": [
       "count    23698.000000\n",
       "mean         2.735329\n",
       "std          0.994340\n",
       "min          1.000000\n",
       "25%          2.550000\n",
       "50%          2.650000\n",
       "75%          2.750000\n",
       "max        100.000000\n",
       "Name: ceiling_height, dtype: float64"
      ]
     },
     "execution_count": 11,
     "metadata": {},
     "output_type": "execute_result"
    }
   ],
   "source": [
    "data['living_area_part'] = data['living_area'] / data['total_area']\n",
    "data['kitchen_area_part'] = data['kitchen_area'] / data['total_area']\n",
    "data.ceiling_height.describe()"
   ]
  },
  {
   "cell_type": "markdown",
   "metadata": {},
   "source": [
    "<a name=\"paragraph4\"></a>\n",
    "## 4 Исследовательский анализ данных"
   ]
  },
  {
   "cell_type": "markdown",
   "metadata": {},
   "source": [
    "<a name=\"subparagraph4.1\"></a>\n",
    "### 4.1 Изучение параметров"
   ]
  },
  {
   "cell_type": "code",
   "execution_count": 12,
   "metadata": {},
   "outputs": [
    {
     "data": {
      "text/plain": [
       "Text(0, 0.5, 'Количество объявлений')"
      ]
     },
     "execution_count": 12,
     "metadata": {},
     "output_type": "execute_result"
    },
    {
     "data": {
      "image/png": "[encoded data removed]",
      "text/plain": [
       "<Figure size 432x288 with 1 Axes>"
      ]
     },
     "metadata": {
      "needs_background": "light"
     },
     "output_type": "display_data"
    }
   ],
   "source": [
    "data.plot(kind='hist', y ='total_area', grid=True, bins=20, range=(20, 200))\n",
    "plt.title('Распределение квартир по общей площади') \n",
    "plt.xlabel('Площадь, кв. м')\n",
    "plt.ylabel('Количество объявлений')"
   ]
  },
  {
   "cell_type": "markdown",
   "metadata": {},
   "source": [
    "В основном общая площадь квартир колеблится в пределах 30-50 кв. м."
   ]
  },
  {
   "cell_type": "code",
   "execution_count": 13,
   "metadata": {},
   "outputs": [
    {
     "data": {
      "text/plain": [
       "Text(0, 0.5, 'Количество объявлений')"
      ]
     },
     "execution_count": 13,
     "metadata": {},
     "output_type": "execute_result"
    },
    {
     "data": {
      "image/png": "[encoded data removed]",
      "text/plain": [
       "<Figure size 432x288 with 1 Axes>"
      ]
     },
     "metadata": {
      "needs_background": "light"
     },
     "output_type": "display_data"
    }
   ],
   "source": [
    "data.plot(kind='hist', y ='rooms', grid=True, bins=20, range=(0, 10))\n",
    "plt.title('Распределение количества комнат в квартирах') \n",
    "plt.xlabel('Количество комнат')\n",
    "plt.ylabel('Количество объявлений')"
   ]
  },
  {
   "cell_type": "markdown",
   "metadata": {},
   "source": [
    "В основном наш датафрейм состоит из 1-3 комнатных квартир, что соответствует действительному положению на рынке недвижимости. Также на гистограмме видно, что присутствует значения равные 0, чего быть не может. "
   ]
  },
  {
   "cell_type": "code",
   "execution_count": 14,
   "metadata": {},
   "outputs": [
    {
     "data": {
      "text/plain": [
       "Text(0, 0.5, 'Количество объявлений')"
      ]
     },
     "execution_count": 14,
     "metadata": {},
     "output_type": "execute_result"
    },
    {
     "data": {
      "image/png": "[encoded data removed]",
      "text/plain": [
       "<Figure size 432x288 with 1 Axes>"
      ]
     },
     "metadata": {
      "needs_background": "light"
     },
     "output_type": "display_data"
    }
   ],
   "source": [
    "# Приведем стоимость к более наглядному виду.\n",
    "data['last_price_in_mln'] = data['last_price'] * 1e-6\n",
    "data.plot(kind='hist', y ='last_price_in_mln', grid=True, bins=30, range=(0, 20))\n",
    "plt.title('Распределение квартир по стоимости')\n",
    "plt.xlabel('Стоимость, млн. руб')\n",
    "plt.ylabel('Количество объявлений')"
   ]
  },
  {
   "cell_type": "markdown",
   "metadata": {},
   "source": [
    "Большинство квартир имеют стоимость от 2.5 до 5 миллионов "
   ]
  },
  {
   "cell_type": "code",
   "execution_count": 15,
   "metadata": {},
   "outputs": [
    {
     "data": {
      "text/plain": [
       "count    23698.000000\n",
       "mean         2.735329\n",
       "std          0.994340\n",
       "min          1.000000\n",
       "25%          2.550000\n",
       "50%          2.650000\n",
       "75%          2.750000\n",
       "max        100.000000\n",
       "Name: ceiling_height, dtype: float64"
      ]
     },
     "execution_count": 15,
     "metadata": {},
     "output_type": "execute_result"
    },
    {
     "data": {
      "image/png": "[encoded data removed]",
      "text/plain": [
       "<Figure size 432x288 with 1 Axes>"
      ]
     },
     "metadata": {
      "needs_background": "light"
     },
     "output_type": "display_data"
    }
   ],
   "source": [
    "data.plot(kind='hist', y ='ceiling_height', grid=True, bins=20, range=(1, 5))\n",
    "plt.title('Распределение квартир по высоте потолков')\n",
    "plt.xlabel('Высота, м')\n",
    "plt.ylabel('Количество объявлений')\n",
    "data['ceiling_height'].describe()"
   ]
  },
  {
   "cell_type": "markdown",
   "metadata": {},
   "source": [
    "В среднем потолки имеют высоту в пределах 2.5-2.8 метров. Также имеются разбросы."
   ]
  },
  {
   "cell_type": "markdown",
   "metadata": {},
   "source": [
    "Сгруппируем параметр days_exposition с годом размещения объявления year и заменим пропущенные значения медианой. Затем построим гистограмму распределения квартир по продолжительности размещения объявления "
   ]
  },
  {
   "cell_type": "code",
   "execution_count": 16,
   "metadata": {},
   "outputs": [
    {
     "data": {
      "image/png": "[encoded data removed]",
      "text/plain": [
       "<Figure size 432x288 with 1 Axes>"
      ]
     },
     "metadata": {
      "needs_background": "light"
     },
     "output_type": "display_data"
    }
   ],
   "source": [
    "data['days_exposition'] = data.groupby('year')['days_exposition'].apply(lambda x: x.fillna(x.median()))\n",
    "sns.boxplot(x=data['days_exposition'])\n",
    "plt.show()"
   ]
  },
  {
   "cell_type": "code",
   "execution_count": 17,
   "metadata": {},
   "outputs": [
    {
     "data": {
      "image/png": "[encoded data removed]",
      "text/plain": [
       "<Figure size 432x288 with 1 Axes>"
      ]
     },
     "metadata": {
      "needs_background": "light"
     },
     "output_type": "display_data"
    }
   ],
   "source": [
    "data.plot(kind='hist', y ='days_exposition', grid=True, bins=50, range=(1, 700))\n",
    "plt.title('Распределения квартир по продолжительности продажи')\n",
    "plt.xlabel('Количество дней')\n",
    "plt.ylabel('Количество объявлений')\n",
    "plt.show()"
   ]
  },
  {
   "cell_type": "markdown",
   "metadata": {},
   "source": [
    "Среднее продолжительность размещения объявления в два раза выше медианного  значения. Это означает, что среди значений параметра имеется большое число выбросов. Также на диаграмме видно два пика в районе 25 и 65 дней."
   ]
  },
  {
   "cell_type": "markdown",
   "metadata": {},
   "source": [
    "<a name=\"subparagraph4.2\"></a>\n",
    "### 4.2 Избавляемся от редких и выбивающихся значений"
   ]
  },
  {
   "cell_type": "markdown",
   "metadata": {},
   "source": [
    "Почти во всех параметрах имеются выбросы. Мы же остановимся на рассмотрении наиболее важных параметров."
   ]
  },
  {
   "cell_type": "markdown",
   "metadata": {},
   "source": [
    "#### 4.2.1 Проанализируем общую площадь квартир"
   ]
  },
  {
   "cell_type": "code",
   "execution_count": 18,
   "metadata": {},
   "outputs": [
    {
     "data": {
      "text/plain": [
       "count    23699.000000\n",
       "mean        60.348651\n",
       "std         35.654083\n",
       "min         12.000000\n",
       "25%         40.000000\n",
       "50%         52.000000\n",
       "75%         69.900000\n",
       "max        900.000000\n",
       "Name: total_area, dtype: float64"
      ]
     },
     "execution_count": 18,
     "metadata": {},
     "output_type": "execute_result"
    },
    {
     "data": {
      "image/png": "[encoded data removed]",
      "text/plain": [
       "<Figure size 432x288 with 1 Axes>"
      ]
     },
     "metadata": {
      "needs_background": "light"
     },
     "output_type": "display_data"
    }
   ],
   "source": [
    "sns.boxplot(x=data['total_area'])\n",
    "data['total_area'].describe()"
   ]
  },
  {
   "cell_type": "markdown",
   "metadata": {},
   "source": [
    "Отбросим квартиры с площадью меньше 20 квадратных метров. Квартиры с аномально большой площадью пока не будем считать выбросами, так как они могут быть элитными домами."
   ]
  },
  {
   "cell_type": "code",
   "execution_count": 19,
   "metadata": {},
   "outputs": [],
   "source": [
    "# Отбросим квартиры с площадью меньше 20 квадратных метров\n",
    "data = data.query('total_area >= 20')"
   ]
  },
  {
   "cell_type": "markdown",
   "metadata": {},
   "source": [
    "#### 4.2.2 Проанализируем стоимость квартир"
   ]
  },
  {
   "cell_type": "code",
   "execution_count": 20,
   "metadata": {},
   "outputs": [
    {
     "data": {
      "text/plain": [
       "count    23672.000000\n",
       "mean         6.546788\n",
       "std         10.892090\n",
       "min          0.012190\n",
       "25%          3.429000\n",
       "50%          4.650000\n",
       "75%          6.800000\n",
       "max        763.000000\n",
       "Name: last_price_in_mln, dtype: float64"
      ]
     },
     "execution_count": 20,
     "metadata": {},
     "output_type": "execute_result"
    },
    {
     "data": {
      "image/png": "[encoded data removed]",
      "text/plain": [
       "<Figure size 432x288 with 1 Axes>"
      ]
     },
     "metadata": {
      "needs_background": "light"
     },
     "output_type": "display_data"
    }
   ],
   "source": [
    "# Для большей наглядности воспользуемся значениями цены в млн.\n",
    "sns.boxplot(x=data['last_price'])\n",
    "data['last_price_in_mln'].describe()"
   ]
  },
  {
   "cell_type": "markdown",
   "metadata": {},
   "source": [
    "В датафрейме имеется аномально низкий выброс равный 12190 рублей, который мы позже отбросим. Квартиры дешевле 1 млн не являются выбросами, в этом случае низкая цена объясняется небольшим населенным  пунктом. На графике видно, что имеется много квартир, стоимость которых превышают 200 млн. Пока не будем приписывать эти значения к выбросам, возможно такие значения из-за их площади, поэтому проверим общую площадь этих квартир."
   ]
  },
  {
   "cell_type": "code",
   "execution_count": 21,
   "metadata": {},
   "outputs": [
    {
     "data": {
      "text/html": [
       "<div>\n",
       "<style scoped>\n",
       "    .dataframe tbody tr th:only-of-type {\n",
       "        vertical-align: middle;\n",
       "    }\n",
       "\n",
       "    .dataframe tbody tr th {\n",
       "        vertical-align: top;\n",
       "    }\n",
       "\n",
       "    .dataframe thead th {\n",
       "        text-align: right;\n",
       "    }\n",
       "</style>\n",
       "<table border=\"1\" class=\"dataframe\">\n",
       "  <thead>\n",
       "    <tr style=\"text-align: right;\">\n",
       "      <th></th>\n",
       "      <th>total_images</th>\n",
       "      <th>last_price</th>\n",
       "      <th>total_area</th>\n",
       "      <th>first_day_exposition</th>\n",
       "      <th>rooms</th>\n",
       "      <th>ceiling_height</th>\n",
       "      <th>floors_total</th>\n",
       "      <th>living_area</th>\n",
       "      <th>floor</th>\n",
       "      <th>is_apartment</th>\n",
       "      <th>...</th>\n",
       "      <th>days_exposition</th>\n",
       "      <th>floor_by_group</th>\n",
       "      <th>total_area_by_group</th>\n",
       "      <th>price_per_square_meter</th>\n",
       "      <th>day_of_the_week</th>\n",
       "      <th>month</th>\n",
       "      <th>year</th>\n",
       "      <th>living_area_part</th>\n",
       "      <th>kitchen_area_part</th>\n",
       "      <th>last_price_in_mln</th>\n",
       "    </tr>\n",
       "  </thead>\n",
       "  <tbody>\n",
       "    <tr>\n",
       "      <th>1436</th>\n",
       "      <td>19</td>\n",
       "      <td>330000000</td>\n",
       "      <td>190.0</td>\n",
       "      <td>2018-04-04</td>\n",
       "      <td>3</td>\n",
       "      <td>3.50</td>\n",
       "      <td>7</td>\n",
       "      <td>95.0</td>\n",
       "      <td>5</td>\n",
       "      <td>False</td>\n",
       "      <td>...</td>\n",
       "      <td>233.0</td>\n",
       "      <td>Другой</td>\n",
       "      <td>больше 70 кв м</td>\n",
       "      <td>1.736842e+06</td>\n",
       "      <td>2</td>\n",
       "      <td>4</td>\n",
       "      <td>2018</td>\n",
       "      <td>0.500000</td>\n",
       "      <td>0.210526</td>\n",
       "      <td>330.0000</td>\n",
       "    </tr>\n",
       "    <tr>\n",
       "      <th>5893</th>\n",
       "      <td>3</td>\n",
       "      <td>230000000</td>\n",
       "      <td>500.0</td>\n",
       "      <td>2017-05-31</td>\n",
       "      <td>6</td>\n",
       "      <td>3.00</td>\n",
       "      <td>7</td>\n",
       "      <td>155.5</td>\n",
       "      <td>7</td>\n",
       "      <td>False</td>\n",
       "      <td>...</td>\n",
       "      <td>50.0</td>\n",
       "      <td>Последний</td>\n",
       "      <td>больше 70 кв м</td>\n",
       "      <td>4.600000e+05</td>\n",
       "      <td>2</td>\n",
       "      <td>5</td>\n",
       "      <td>2017</td>\n",
       "      <td>0.311000</td>\n",
       "      <td>0.080000</td>\n",
       "      <td>230.0000</td>\n",
       "    </tr>\n",
       "    <tr>\n",
       "      <th>12971</th>\n",
       "      <td>19</td>\n",
       "      <td>763000000</td>\n",
       "      <td>400.0</td>\n",
       "      <td>2017-09-30</td>\n",
       "      <td>7</td>\n",
       "      <td>2.60</td>\n",
       "      <td>10</td>\n",
       "      <td>250.0</td>\n",
       "      <td>10</td>\n",
       "      <td>False</td>\n",
       "      <td>...</td>\n",
       "      <td>33.0</td>\n",
       "      <td>Последний</td>\n",
       "      <td>больше 70 кв м</td>\n",
       "      <td>1.907500e+06</td>\n",
       "      <td>5</td>\n",
       "      <td>9</td>\n",
       "      <td>2017</td>\n",
       "      <td>0.625000</td>\n",
       "      <td>0.032500</td>\n",
       "      <td>763.0000</td>\n",
       "    </tr>\n",
       "    <tr>\n",
       "      <th>13749</th>\n",
       "      <td>7</td>\n",
       "      <td>240000000</td>\n",
       "      <td>410.0</td>\n",
       "      <td>2017-04-01</td>\n",
       "      <td>6</td>\n",
       "      <td>3.40</td>\n",
       "      <td>7</td>\n",
       "      <td>218.0</td>\n",
       "      <td>7</td>\n",
       "      <td>False</td>\n",
       "      <td>...</td>\n",
       "      <td>199.0</td>\n",
       "      <td>Последний</td>\n",
       "      <td>больше 70 кв м</td>\n",
       "      <td>5.853659e+05</td>\n",
       "      <td>5</td>\n",
       "      <td>4</td>\n",
       "      <td>2017</td>\n",
       "      <td>0.531707</td>\n",
       "      <td>0.097561</td>\n",
       "      <td>240.0000</td>\n",
       "    </tr>\n",
       "    <tr>\n",
       "      <th>14706</th>\n",
       "      <td>15</td>\n",
       "      <td>401300000</td>\n",
       "      <td>401.0</td>\n",
       "      <td>2016-02-20</td>\n",
       "      <td>5</td>\n",
       "      <td>2.55</td>\n",
       "      <td>9</td>\n",
       "      <td>204.0</td>\n",
       "      <td>9</td>\n",
       "      <td>False</td>\n",
       "      <td>...</td>\n",
       "      <td>393.0</td>\n",
       "      <td>Последний</td>\n",
       "      <td>больше 70 кв м</td>\n",
       "      <td>1.000748e+06</td>\n",
       "      <td>5</td>\n",
       "      <td>2</td>\n",
       "      <td>2016</td>\n",
       "      <td>0.508728</td>\n",
       "      <td>0.059850</td>\n",
       "      <td>401.3000</td>\n",
       "    </tr>\n",
       "    <tr>\n",
       "      <th>15651</th>\n",
       "      <td>20</td>\n",
       "      <td>300000000</td>\n",
       "      <td>618.0</td>\n",
       "      <td>2017-12-18</td>\n",
       "      <td>7</td>\n",
       "      <td>3.40</td>\n",
       "      <td>7</td>\n",
       "      <td>258.0</td>\n",
       "      <td>5</td>\n",
       "      <td>False</td>\n",
       "      <td>...</td>\n",
       "      <td>111.0</td>\n",
       "      <td>Другой</td>\n",
       "      <td>больше 70 кв м</td>\n",
       "      <td>4.854369e+05</td>\n",
       "      <td>0</td>\n",
       "      <td>12</td>\n",
       "      <td>2017</td>\n",
       "      <td>0.417476</td>\n",
       "      <td>0.113269</td>\n",
       "      <td>300.0000</td>\n",
       "    </tr>\n",
       "    <tr>\n",
       "      <th>16461</th>\n",
       "      <td>17</td>\n",
       "      <td>245000000</td>\n",
       "      <td>285.7</td>\n",
       "      <td>2017-04-10</td>\n",
       "      <td>6</td>\n",
       "      <td>3.35</td>\n",
       "      <td>7</td>\n",
       "      <td>182.8</td>\n",
       "      <td>4</td>\n",
       "      <td>False</td>\n",
       "      <td>...</td>\n",
       "      <td>249.0</td>\n",
       "      <td>Другой</td>\n",
       "      <td>больше 70 кв м</td>\n",
       "      <td>8.575429e+05</td>\n",
       "      <td>0</td>\n",
       "      <td>4</td>\n",
       "      <td>2017</td>\n",
       "      <td>0.639832</td>\n",
       "      <td>0.104305</td>\n",
       "      <td>245.0000</td>\n",
       "    </tr>\n",
       "    <tr>\n",
       "      <th>19540</th>\n",
       "      <td>8</td>\n",
       "      <td>420000000</td>\n",
       "      <td>900.0</td>\n",
       "      <td>2017-12-06</td>\n",
       "      <td>12</td>\n",
       "      <td>2.80</td>\n",
       "      <td>25</td>\n",
       "      <td>409.7</td>\n",
       "      <td>25</td>\n",
       "      <td>False</td>\n",
       "      <td>...</td>\n",
       "      <td>106.0</td>\n",
       "      <td>Последний</td>\n",
       "      <td>больше 70 кв м</td>\n",
       "      <td>4.666667e+05</td>\n",
       "      <td>2</td>\n",
       "      <td>12</td>\n",
       "      <td>2017</td>\n",
       "      <td>0.455222</td>\n",
       "      <td>0.124444</td>\n",
       "      <td>420.0000</td>\n",
       "    </tr>\n",
       "    <tr>\n",
       "      <th>22831</th>\n",
       "      <td>18</td>\n",
       "      <td>289238400</td>\n",
       "      <td>187.5</td>\n",
       "      <td>2019-03-19</td>\n",
       "      <td>2</td>\n",
       "      <td>3.37</td>\n",
       "      <td>6</td>\n",
       "      <td>63.7</td>\n",
       "      <td>6</td>\n",
       "      <td>False</td>\n",
       "      <td>...</td>\n",
       "      <td>23.0</td>\n",
       "      <td>Последний</td>\n",
       "      <td>больше 70 кв м</td>\n",
       "      <td>1.542605e+06</td>\n",
       "      <td>1</td>\n",
       "      <td>3</td>\n",
       "      <td>2019</td>\n",
       "      <td>0.339733</td>\n",
       "      <td>0.161067</td>\n",
       "      <td>289.2384</td>\n",
       "    </tr>\n",
       "  </tbody>\n",
       "</table>\n",
       "<p>9 rows × 31 columns</p>\n",
       "</div>"
      ],
      "text/plain": [
       "       total_images  last_price  total_area first_day_exposition  rooms  \\\n",
       "1436             19   330000000       190.0           2018-04-04      3   \n",
       "5893              3   230000000       500.0           2017-05-31      6   \n",
       "12971            19   763000000       400.0           2017-09-30      7   \n",
       "13749             7   240000000       410.0           2017-04-01      6   \n",
       "14706            15   401300000       401.0           2016-02-20      5   \n",
       "15651            20   300000000       618.0           2017-12-18      7   \n",
       "16461            17   245000000       285.7           2017-04-10      6   \n",
       "19540             8   420000000       900.0           2017-12-06     12   \n",
       "22831            18   289238400       187.5           2019-03-19      2   \n",
       "\n",
       "       ceiling_height  floors_total  living_area  floor  is_apartment  ...  \\\n",
       "1436             3.50             7         95.0      5         False  ...   \n",
       "5893             3.00             7        155.5      7         False  ...   \n",
       "12971            2.60            10        250.0     10         False  ...   \n",
       "13749            3.40             7        218.0      7         False  ...   \n",
       "14706            2.55             9        204.0      9         False  ...   \n",
       "15651            3.40             7        258.0      5         False  ...   \n",
       "16461            3.35             7        182.8      4         False  ...   \n",
       "19540            2.80            25        409.7     25         False  ...   \n",
       "22831            3.37             6         63.7      6         False  ...   \n",
       "\n",
       "       days_exposition  floor_by_group  total_area_by_group  \\\n",
       "1436             233.0          Другой       больше 70 кв м   \n",
       "5893              50.0       Последний       больше 70 кв м   \n",
       "12971             33.0       Последний       больше 70 кв м   \n",
       "13749            199.0       Последний       больше 70 кв м   \n",
       "14706            393.0       Последний       больше 70 кв м   \n",
       "15651            111.0          Другой       больше 70 кв м   \n",
       "16461            249.0          Другой       больше 70 кв м   \n",
       "19540            106.0       Последний       больше 70 кв м   \n",
       "22831             23.0       Последний       больше 70 кв м   \n",
       "\n",
       "       price_per_square_meter day_of_the_week  month  year  living_area_part  \\\n",
       "1436             1.736842e+06               2      4  2018          0.500000   \n",
       "5893             4.600000e+05               2      5  2017          0.311000   \n",
       "12971            1.907500e+06               5      9  2017          0.625000   \n",
       "13749            5.853659e+05               5      4  2017          0.531707   \n",
       "14706            1.000748e+06               5      2  2016          0.508728   \n",
       "15651            4.854369e+05               0     12  2017          0.417476   \n",
       "16461            8.575429e+05               0      4  2017          0.639832   \n",
       "19540            4.666667e+05               2     12  2017          0.455222   \n",
       "22831            1.542605e+06               1      3  2019          0.339733   \n",
       "\n",
       "       kitchen_area_part  last_price_in_mln  \n",
       "1436            0.210526           330.0000  \n",
       "5893            0.080000           230.0000  \n",
       "12971           0.032500           763.0000  \n",
       "13749           0.097561           240.0000  \n",
       "14706           0.059850           401.3000  \n",
       "15651           0.113269           300.0000  \n",
       "16461           0.104305           245.0000  \n",
       "19540           0.124444           420.0000  \n",
       "22831           0.161067           289.2384  \n",
       "\n",
       "[9 rows x 31 columns]"
      ]
     },
     "execution_count": 21,
     "metadata": {},
     "output_type": "execute_result"
    }
   ],
   "source": [
    "data = data.query('last_price >= 300000')\n",
    "data.query('last_price_in_mln > 200')"
   ]
  },
  {
   "cell_type": "markdown",
   "metadata": {},
   "source": [
    "Как и предполагалось в основном высокую стоимость имеют квартиры с большой площадью. Поэтому посмотрим на зависимость цены от общей площади."
   ]
  },
  {
   "cell_type": "code",
   "execution_count": 22,
   "metadata": {},
   "outputs": [
    {
     "data": {
      "image/png": "[encoded data removed]",
      "text/plain": [
       "<Figure size 432x288 with 1 Axes>"
      ]
     },
     "metadata": {
      "needs_background": "light"
     },
     "output_type": "display_data"
    }
   ],
   "source": [
    "data.plot(x='total_area', y='last_price_in_mln', style='o')\n",
    "plt.show()"
   ]
  },
  {
   "cell_type": "markdown",
   "metadata": {},
   "source": [
    "Выбросы есть, но их не так много, в основном большая площадь объясняются высокой ценой, но при этом есть случаи большой общей площади с низкой ценой. Избавимся от таких значений, для этого возьмем квартиры в Санкт-Петербурге и разделим их цену в млн на общую площадь, это значение не должно превышать 0.05. То есть квартира с общей площадью 100 кв. м должна стоить от 5 миллионов рублей. Если бы данные были представлены за 2020 год, можно было бы повысить этот коэффициент, но так как у нас присутствуют данные объявлений с 2014 года, из-за ежегодного подорожания недвижимости нужно более точно рассчитать коэффициент отношения цены в млн к общей площади. "
   ]
  },
  {
   "cell_type": "code",
   "execution_count": 23,
   "metadata": {
    "scrolled": false
   },
   "outputs": [],
   "source": [
    "coef = data.last_price_in_mln / data.total_area\n",
    "data = data.query('@coef > 0.05 or locality_name != \"Санкт-Петербург\"')"
   ]
  },
  {
   "cell_type": "markdown",
   "metadata": {},
   "source": [
    "#### 4.2.3 Проанализируем жилую площадь квартир"
   ]
  },
  {
   "cell_type": "code",
   "execution_count": 24,
   "metadata": {},
   "outputs": [
    {
     "data": {
      "image/png": "[encoded data removed]",
      "text/plain": [
       "<Figure size 432x288 with 1 Axes>"
      ]
     },
     "metadata": {
      "needs_background": "light"
     },
     "output_type": "display_data"
    },
    {
     "data": {
      "image/png": "[encoded data removed]",
      "text/plain": [
       "<Figure size 432x288 with 1 Axes>"
      ]
     },
     "metadata": {
      "needs_background": "light"
     },
     "output_type": "display_data"
    },
    {
     "data": {
      "text/plain": [
       "count    23647.000000\n",
       "mean        34.344052\n",
       "std         21.625542\n",
       "min          2.000000\n",
       "25%         18.400000\n",
       "50%         30.000000\n",
       "75%         42.500000\n",
       "max        409.700000\n",
       "Name: living_area, dtype: float64"
      ]
     },
     "execution_count": 24,
     "metadata": {},
     "output_type": "execute_result"
    }
   ],
   "source": [
    "data.plot(kind='hist', y='living_area', bins=30, grid=True, range=(0, 200))\n",
    "plt.title('Распределение квартир по жилой площади, млн. руб.')\n",
    "plt.xlabel('Жилая площадь, кв. м')\n",
    "plt.ylabel('Количество объявлений')\n",
    "plt.show()\n",
    "\n",
    "sns.boxplot(x=data['living_area'])\n",
    "plt.show()\n",
    "\n",
    "data.living_area.describe()"
   ]
  },
  {
   "cell_type": "markdown",
   "metadata": {},
   "source": [
    "Отбросим значения жилой площади, которые меньше 10 кв. м. Ситуация с большой площадью аналогична ситуации с total_area."
   ]
  },
  {
   "cell_type": "code",
   "execution_count": 25,
   "metadata": {},
   "outputs": [],
   "source": [
    "data = data.query('living_area > 9')"
   ]
  },
  {
   "cell_type": "markdown",
   "metadata": {},
   "source": [
    "#### 4.2.4 Проанализируем площадь кухни квартир"
   ]
  },
  {
   "cell_type": "code",
   "execution_count": 32,
   "metadata": {},
   "outputs": [
    {
     "data": {
      "image/png": "[encoded data removed]",
      "text/plain": [
       "<Figure size 432x288 with 1 Axes>"
      ]
     },
     "metadata": {
      "needs_background": "light"
     },
     "output_type": "display_data"
    },
    {
     "data": {
      "image/png": "[encoded data removed]",
      "text/plain": [
       "<Figure size 432x288 with 1 Axes>"
      ]
     },
     "metadata": {
      "needs_background": "light"
     },
     "output_type": "display_data"
    }
   ],
   "source": [
    "data.hist('kitchen_area', bins=30, range=(0,60))\n",
    "plt.title('Распределение по площади кухни')\n",
    "plt.xlabel('Площадь кухни, кв. м')\n",
    "plt.ylabel('Количество объявлений')\n",
    "plt.show()\n",
    "\n",
    "sns.boxplot(x=data['kitchen_area'])\n",
    "plt.show()"
   ]
  },
  {
   "cell_type": "markdown",
   "metadata": {},
   "source": [
    "Отбросим значения, в которых кухня может быть меньше 4 кв. м. Квартиры, где кухня имеет большую площадь, имеют так \n",
    "же большую общую площадь, поэтому считать их выбросами нельзя."
   ]
  },
  {
   "cell_type": "code",
   "execution_count": 37,
   "metadata": {},
   "outputs": [],
   "source": [
    "data =data.query('kitchen_area >= 4')"
   ]
  },
  {
   "cell_type": "markdown",
   "metadata": {},
   "source": [
    "#### 4.2.5 Проанализируем высоту потолков квартир"
   ]
  },
  {
   "cell_type": "code",
   "execution_count": 40,
   "metadata": {},
   "outputs": [
    {
     "data": {
      "image/png": "[encoded data removed]",
      "text/plain": [
       "<Figure size 432x288 with 1 Axes>"
      ]
     },
     "metadata": {
      "needs_background": "light"
     },
     "output_type": "display_data"
    },
    {
     "data": {
      "image/png": "[encoded data removed]",
      "text/plain": [
       "<Figure size 432x288 with 1 Axes>"
      ]
     },
     "metadata": {
      "needs_background": "light"
     },
     "output_type": "display_data"
    }
   ],
   "source": [
    "data.plot(kind='hist', y ='ceiling_height', grid=True, bins=20, range=(1, 5))\n",
    "plt.title('Распределение квартир по высоте потолков')\n",
    "plt.xlabel('Высота, м')\n",
    "plt.ylabel('Количество объявлений')\n",
    "plt.show()\n",
    "\n",
    "sns.boxplot(x=data['ceiling_height'])\n",
    "plt.show()"
   ]
  },
  {
   "cell_type": "markdown",
   "metadata": {},
   "source": [
    "Будем считать, что минимальная высота потолков не должна быть меньше высоты потолков хрущевок, которая не меньше 2.5 м. А максимальная высота не должна превышать высоту потолков квартир на Невском проспекте, которые не выше 4.5 метров."
   ]
  },
  {
   "cell_type": "code",
   "execution_count": 41,
   "metadata": {},
   "outputs": [],
   "source": [
    "data = data.query('ceiling_height >= 2.4 and ceiling_height <= 4.5')"
   ]
  },
  {
   "cell_type": "markdown",
   "metadata": {},
   "source": [
    "#### 4.2.6 Проанализируем количество комнат"
   ]
  },
  {
   "cell_type": "code",
   "execution_count": 47,
   "metadata": {},
   "outputs": [
    {
     "data": {
      "image/png": "[encoded data removed]",
      "text/plain": [
       "<Figure size 432x288 with 1 Axes>"
      ]
     },
     "metadata": {
      "needs_background": "light"
     },
     "output_type": "display_data"
    },
    {
     "data": {
      "image/png": "[encoded data removed]",
      "text/plain": [
       "<Figure size 432x288 with 1 Axes>"
      ]
     },
     "metadata": {
      "needs_background": "light"
     },
     "output_type": "display_data"
    }
   ],
   "source": [
    "data.hist('rooms', bins=20, range=(0,19))\n",
    "plt.title('Распределение квартир по количеству комнат')\n",
    "plt.xlabel('Количество комнат')\n",
    "plt.ylabel('Количество объявлений')\n",
    "plt.show()\n",
    "\n",
    "sns.boxplot(x=data['rooms'])\n",
    "plt.show()"
   ]
  },
  {
   "cell_type": "markdown",
   "metadata": {},
   "source": [
    "Отбросим квартиры, где комнат меньше одной и больше 8."
   ]
  },
  {
   "cell_type": "code",
   "execution_count": 98,
   "metadata": {},
   "outputs": [
    {
     "data": {
      "text/plain": [
       "1    7978\n",
       "2    7897\n",
       "3    5793\n",
       "4    1174\n",
       "5     321\n",
       "6     101\n",
       "7      56\n",
       "8      12\n",
       "Name: rooms, dtype: int64"
      ]
     },
     "execution_count": 98,
     "metadata": {},
     "output_type": "execute_result"
    }
   ],
   "source": [
    "data = data.query('rooms >= 1 and rooms <= 8')\n",
    "data.rooms.value_counts()"
   ]
  },
  {
   "cell_type": "markdown",
   "metadata": {},
   "source": [
    "<a name=\"subparagraph4.3\"></a>\n",
    "### 4.3 Определение факторов больше всего влияющих на стоимость квартиры"
   ]
  },
  {
   "cell_type": "markdown",
   "metadata": {},
   "source": [
    "Выбирем параметры, для каждого из которых определим на сколько он хорошо коррелируют с ценой. "
   ]
  },
  {
   "cell_type": "code",
   "execution_count": 76,
   "metadata": {},
   "outputs": [
    {
     "data": {
      "image/png": "[encoded data removed]",
      "text/plain": [
       "<Figure size 720x576 with 2 Axes>"
      ]
     },
     "metadata": {
      "needs_background": "light"
     },
     "output_type": "display_data"
    },
    {
     "data": {
      "text/html": [
       "<div>\n",
       "<style scoped>\n",
       "    .dataframe tbody tr th:only-of-type {\n",
       "        vertical-align: middle;\n",
       "    }\n",
       "\n",
       "    .dataframe tbody tr th {\n",
       "        vertical-align: top;\n",
       "    }\n",
       "\n",
       "    .dataframe thead th {\n",
       "        text-align: right;\n",
       "    }\n",
       "</style>\n",
       "<table border=\"1\" class=\"dataframe\">\n",
       "  <thead>\n",
       "    <tr style=\"text-align: right;\">\n",
       "      <th></th>\n",
       "      <th>last_price_in_mln</th>\n",
       "      <th>total_area</th>\n",
       "      <th>ceiling_height</th>\n",
       "      <th>floor</th>\n",
       "      <th>rooms</th>\n",
       "      <th>cityCenters_nearest</th>\n",
       "      <th>parks_around3000</th>\n",
       "      <th>balcony</th>\n",
       "      <th>year</th>\n",
       "    </tr>\n",
       "  </thead>\n",
       "  <tbody>\n",
       "    <tr>\n",
       "      <th>last_price_in_mln</th>\n",
       "      <td>1.000000</td>\n",
       "      <td>0.641581</td>\n",
       "      <td>0.288312</td>\n",
       "      <td>0.023863</td>\n",
       "      <td>0.357444</td>\n",
       "      <td>-0.194972</td>\n",
       "      <td>0.201834</td>\n",
       "      <td>0.023105</td>\n",
       "      <td>-0.043398</td>\n",
       "    </tr>\n",
       "    <tr>\n",
       "      <th>total_area</th>\n",
       "      <td>0.641581</td>\n",
       "      <td>1.000000</td>\n",
       "      <td>0.400880</td>\n",
       "      <td>-0.023843</td>\n",
       "      <td>0.758343</td>\n",
       "      <td>-0.214504</td>\n",
       "      <td>0.201326</td>\n",
       "      <td>0.035753</td>\n",
       "      <td>-0.082301</td>\n",
       "    </tr>\n",
       "    <tr>\n",
       "      <th>ceiling_height</th>\n",
       "      <td>0.288312</td>\n",
       "      <td>0.400880</td>\n",
       "      <td>1.000000</td>\n",
       "      <td>-0.018033</td>\n",
       "      <td>0.235301</td>\n",
       "      <td>-0.275534</td>\n",
       "      <td>0.244085</td>\n",
       "      <td>-0.025359</td>\n",
       "      <td>-0.056817</td>\n",
       "    </tr>\n",
       "    <tr>\n",
       "      <th>floor</th>\n",
       "      <td>0.023863</td>\n",
       "      <td>-0.023843</td>\n",
       "      <td>-0.018033</td>\n",
       "      <td>1.000000</td>\n",
       "      <td>-0.149493</td>\n",
       "      <td>0.012028</td>\n",
       "      <td>-0.104262</td>\n",
       "      <td>0.134436</td>\n",
       "      <td>0.005304</td>\n",
       "    </tr>\n",
       "    <tr>\n",
       "      <th>rooms</th>\n",
       "      <td>0.357444</td>\n",
       "      <td>0.758343</td>\n",
       "      <td>0.235301</td>\n",
       "      <td>-0.149493</td>\n",
       "      <td>1.000000</td>\n",
       "      <td>-0.164234</td>\n",
       "      <td>0.154590</td>\n",
       "      <td>0.016708</td>\n",
       "      <td>-0.054425</td>\n",
       "    </tr>\n",
       "    <tr>\n",
       "      <th>cityCenters_nearest</th>\n",
       "      <td>-0.194972</td>\n",
       "      <td>-0.214504</td>\n",
       "      <td>-0.275534</td>\n",
       "      <td>0.012028</td>\n",
       "      <td>-0.164234</td>\n",
       "      <td>1.000000</td>\n",
       "      <td>-0.128428</td>\n",
       "      <td>0.034295</td>\n",
       "      <td>0.025713</td>\n",
       "    </tr>\n",
       "    <tr>\n",
       "      <th>parks_around3000</th>\n",
       "      <td>0.201834</td>\n",
       "      <td>0.201326</td>\n",
       "      <td>0.244085</td>\n",
       "      <td>-0.104262</td>\n",
       "      <td>0.154590</td>\n",
       "      <td>-0.128428</td>\n",
       "      <td>1.000000</td>\n",
       "      <td>-0.057910</td>\n",
       "      <td>-0.048821</td>\n",
       "    </tr>\n",
       "    <tr>\n",
       "      <th>balcony</th>\n",
       "      <td>0.023105</td>\n",
       "      <td>0.035753</td>\n",
       "      <td>-0.025359</td>\n",
       "      <td>0.134436</td>\n",
       "      <td>0.016708</td>\n",
       "      <td>0.034295</td>\n",
       "      <td>-0.057910</td>\n",
       "      <td>1.000000</td>\n",
       "      <td>0.220146</td>\n",
       "    </tr>\n",
       "    <tr>\n",
       "      <th>year</th>\n",
       "      <td>-0.043398</td>\n",
       "      <td>-0.082301</td>\n",
       "      <td>-0.056817</td>\n",
       "      <td>0.005304</td>\n",
       "      <td>-0.054425</td>\n",
       "      <td>0.025713</td>\n",
       "      <td>-0.048821</td>\n",
       "      <td>0.220146</td>\n",
       "      <td>1.000000</td>\n",
       "    </tr>\n",
       "  </tbody>\n",
       "</table>\n",
       "</div>"
      ],
      "text/plain": [
       "                     last_price_in_mln  total_area  ceiling_height     floor  \\\n",
       "last_price_in_mln             1.000000    0.641581        0.288312  0.023863   \n",
       "total_area                    0.641581    1.000000        0.400880 -0.023843   \n",
       "ceiling_height                0.288312    0.400880        1.000000 -0.018033   \n",
       "floor                         0.023863   -0.023843       -0.018033  1.000000   \n",
       "rooms                         0.357444    0.758343        0.235301 -0.149493   \n",
       "cityCenters_nearest          -0.194972   -0.214504       -0.275534  0.012028   \n",
       "parks_around3000              0.201834    0.201326        0.244085 -0.104262   \n",
       "balcony                       0.023105    0.035753       -0.025359  0.134436   \n",
       "year                         -0.043398   -0.082301       -0.056817  0.005304   \n",
       "\n",
       "                        rooms  cityCenters_nearest  parks_around3000  \\\n",
       "last_price_in_mln    0.357444            -0.194972          0.201834   \n",
       "total_area           0.758343            -0.214504          0.201326   \n",
       "ceiling_height       0.235301            -0.275534          0.244085   \n",
       "floor               -0.149493             0.012028         -0.104262   \n",
       "rooms                1.000000            -0.164234          0.154590   \n",
       "cityCenters_nearest -0.164234             1.000000         -0.128428   \n",
       "parks_around3000     0.154590            -0.128428          1.000000   \n",
       "balcony              0.016708             0.034295         -0.057910   \n",
       "year                -0.054425             0.025713         -0.048821   \n",
       "\n",
       "                      balcony      year  \n",
       "last_price_in_mln    0.023105 -0.043398  \n",
       "total_area           0.035753 -0.082301  \n",
       "ceiling_height      -0.025359 -0.056817  \n",
       "floor                0.134436  0.005304  \n",
       "rooms                0.016708 -0.054425  \n",
       "cityCenters_nearest  0.034295  0.025713  \n",
       "parks_around3000    -0.057910 -0.048821  \n",
       "balcony              1.000000  0.220146  \n",
       "year                 0.220146  1.000000  "
      ]
     },
     "execution_count": 76,
     "metadata": {},
     "output_type": "execute_result"
    }
   ],
   "source": [
    "columns_for_corr = ['last_price_in_mln', 'total_area', 'ceiling_height', 'floor', \n",
    "                    'rooms', 'cityCenters_nearest', 'parks_around3000', 'balcony', 'year']\n",
    "\n",
    "plt.figure(figsize=(10,8))\n",
    "sns.heatmap(data[columns_for_corr].corr(), annot = True)\n",
    "plt.show()\n",
    "data[columns_for_corr].corr()"
   ]
  },
  {
   "cell_type": "markdown",
   "metadata": {},
   "source": [
    "На тепловой карте видно, что цена коррелирует с общей площадью. Так же цена имеет более слабую корреляцию с количеством комнат, высотой потолков и числом парков в радиусе 3 км. Также присутствует отрицательная корреляция  с расстоянием до центра."
   ]
  },
  {
   "cell_type": "markdown",
   "metadata": {},
   "source": [
    "Далее сгруппируем эти параметры с ценой, для того что бы увидеть, как изменяется цена в зависимости от значений параметров."
   ]
  },
  {
   "cell_type": "code",
   "execution_count": 103,
   "metadata": {
    "scrolled": false
   },
   "outputs": [
    {
     "name": "stdout",
     "output_type": "stream",
     "text": [
      "       last_price_in_mln\n",
      "floor                   \n",
      "30                10.150\n",
      "33                 9.900\n",
      "29                 9.200\n",
      "10                 7.762\n",
      "7                  7.753\n",
      "\n",
      "       last_price_in_mln\n",
      "rooms                   \n",
      "7                 51.327\n",
      "8                 50.224\n",
      "6                 31.892\n",
      "5                 22.724\n",
      "4                 13.377\n",
      "\n",
      "                  last_price_in_mln\n",
      "parks_around3000                   \n",
      "3                            14.711\n",
      "2                            10.268\n",
      "1                             7.902\n",
      "0                             5.238\n",
      "\n",
      "      last_price_in_mln\n",
      "year                   \n",
      "2014             12.087\n",
      "2015              8.445\n",
      "2016              6.818\n",
      "2019              6.733\n",
      "2017              6.532\n",
      "\n"
     ]
    }
   ],
   "source": [
    "def group_func(data, column):\n",
    "    return data.pivot_table(index=column, values='last_price_in_mln').sort_values('last_price_in_mln',ascending=False).head()\n",
    "\n",
    "parameters_for_group = ['floor', 'rooms', 'parks_around3000', 'year']\n",
    "\n",
    "for parameter in parameters_for_group:\n",
    "    print(group_func(data, parameter))\n",
    "    print()"
   ]
  },
  {
   "cell_type": "markdown",
   "metadata": {},
   "source": [
    "### Вывод\n",
    "        1. В среднем чем выше этаж, тем выше цена\n",
    "        2. Чем больше комнат, тем выше цена\n",
    "        3. Чем больше парков, тем выше цена\n",
    "        4. Самая высокая цены пришлись на 2014г, после которого идет снижение."
   ]
  }
 ],
 "metadata": {
  "kernelspec": {
   "display_name": "Python 3",
   "language": "python",
   "name": "python3"
  },
  "language_info": {
   "codemirror_mode": {
    "name": "ipython",
    "version": 3
   },
   "file_extension": ".py",
   "mimetype": "text/x-python",
   "name": "python",
   "nbconvert_exporter": "python",
   "pygments_lexer": "ipython3",
   "version": "3.8.5"
  }
 },
 "nbformat": 4,
 "nbformat_minor": 4
}
